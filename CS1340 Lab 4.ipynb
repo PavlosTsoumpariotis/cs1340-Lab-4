{
 "cells": [
  {
   "cell_type": "markdown",
   "metadata": {},
   "source": [
    "# CS1340 Lab 4"
   ]
  },
  {
   "cell_type": "code",
   "execution_count": null,
   "metadata": {},
   "outputs": [],
   "source": []
  },
  {
   "cell_type": "markdown",
   "metadata": {},
   "source": [
    "### In this lab, we will be using python for stock analysis. The packages will be used include numpy, pandas, pandas_datareader, matplotlib. (Use conda install pandas_datareader to install this package). "
   ]
  },
  {
   "cell_type": "code",
   "execution_count": 1,
   "metadata": {
    "scrolled": true
   },
   "outputs": [],
   "source": [
    "# Step one, input all the packages \n",
    "\n",
    "import numpy as np\n",
    "import pandas as pd\n",
    "from pandas.testing import assert_frame_equal\n",
    "from pandas_datareader import data\n",
    "\n",
    "import matplotlib.pyplot as plt\n",
    "\n",
    "\n",
    "# This following line will make the plot embedded in this notebook, instead of open a new window\n",
    "%matplotlib inline "
   ]
  },
  {
   "cell_type": "markdown",
   "metadata": {},
   "source": [
    "## Data preparation"
   ]
  },
  {
   "cell_type": "code",
   "execution_count": 2,
   "metadata": {},
   "outputs": [
    {
     "data": {
      "text/html": [
       "<div>\n",
       "<style scoped>\n",
       "    .dataframe tbody tr th:only-of-type {\n",
       "        vertical-align: middle;\n",
       "    }\n",
       "\n",
       "    .dataframe tbody tr th {\n",
       "        vertical-align: top;\n",
       "    }\n",
       "\n",
       "    .dataframe thead tr th {\n",
       "        text-align: left;\n",
       "    }\n",
       "\n",
       "    .dataframe thead tr:last-of-type th {\n",
       "        text-align: right;\n",
       "    }\n",
       "</style>\n",
       "<table border=\"1\" class=\"dataframe\">\n",
       "  <thead>\n",
       "    <tr>\n",
       "      <th>Attributes</th>\n",
       "      <th colspan=\"3\" halign=\"left\">Adj Close</th>\n",
       "      <th colspan=\"3\" halign=\"left\">Close</th>\n",
       "      <th colspan=\"3\" halign=\"left\">High</th>\n",
       "      <th colspan=\"3\" halign=\"left\">Low</th>\n",
       "      <th colspan=\"3\" halign=\"left\">Open</th>\n",
       "      <th colspan=\"3\" halign=\"left\">Volume</th>\n",
       "    </tr>\n",
       "    <tr>\n",
       "      <th>Symbols</th>\n",
       "      <th>GOOG</th>\n",
       "      <th>AAPL</th>\n",
       "      <th>MSFT</th>\n",
       "      <th>GOOG</th>\n",
       "      <th>AAPL</th>\n",
       "      <th>MSFT</th>\n",
       "      <th>GOOG</th>\n",
       "      <th>AAPL</th>\n",
       "      <th>MSFT</th>\n",
       "      <th>GOOG</th>\n",
       "      <th>AAPL</th>\n",
       "      <th>MSFT</th>\n",
       "      <th>GOOG</th>\n",
       "      <th>AAPL</th>\n",
       "      <th>MSFT</th>\n",
       "      <th>GOOG</th>\n",
       "      <th>AAPL</th>\n",
       "      <th>MSFT</th>\n",
       "    </tr>\n",
       "    <tr>\n",
       "      <th>Date</th>\n",
       "      <th></th>\n",
       "      <th></th>\n",
       "      <th></th>\n",
       "      <th></th>\n",
       "      <th></th>\n",
       "      <th></th>\n",
       "      <th></th>\n",
       "      <th></th>\n",
       "      <th></th>\n",
       "      <th></th>\n",
       "      <th></th>\n",
       "      <th></th>\n",
       "      <th></th>\n",
       "      <th></th>\n",
       "      <th></th>\n",
       "      <th></th>\n",
       "      <th></th>\n",
       "      <th></th>\n",
       "    </tr>\n",
       "  </thead>\n",
       "  <tbody>\n",
       "    <tr>\n",
       "      <td>2010-01-04</td>\n",
       "      <td>312.204773</td>\n",
       "      <td>26.538483</td>\n",
       "      <td>24.294369</td>\n",
       "      <td>312.204773</td>\n",
       "      <td>30.572857</td>\n",
       "      <td>30.950001</td>\n",
       "      <td>313.579620</td>\n",
       "      <td>30.642857</td>\n",
       "      <td>31.100000</td>\n",
       "      <td>310.954468</td>\n",
       "      <td>30.340000</td>\n",
       "      <td>30.590000</td>\n",
       "      <td>312.304413</td>\n",
       "      <td>30.490000</td>\n",
       "      <td>30.620001</td>\n",
       "      <td>3927000.0</td>\n",
       "      <td>123432400.0</td>\n",
       "      <td>38409100.0</td>\n",
       "    </tr>\n",
       "    <tr>\n",
       "      <td>2010-01-05</td>\n",
       "      <td>310.829926</td>\n",
       "      <td>26.584366</td>\n",
       "      <td>24.302216</td>\n",
       "      <td>310.829926</td>\n",
       "      <td>30.625713</td>\n",
       "      <td>30.959999</td>\n",
       "      <td>312.747742</td>\n",
       "      <td>30.798571</td>\n",
       "      <td>31.100000</td>\n",
       "      <td>309.609497</td>\n",
       "      <td>30.464285</td>\n",
       "      <td>30.639999</td>\n",
       "      <td>312.418976</td>\n",
       "      <td>30.657143</td>\n",
       "      <td>30.850000</td>\n",
       "      <td>6031900.0</td>\n",
       "      <td>150476200.0</td>\n",
       "      <td>49749600.0</td>\n",
       "    </tr>\n",
       "    <tr>\n",
       "      <td>2010-01-06</td>\n",
       "      <td>302.994293</td>\n",
       "      <td>26.161509</td>\n",
       "      <td>24.153070</td>\n",
       "      <td>302.994293</td>\n",
       "      <td>30.138571</td>\n",
       "      <td>30.770000</td>\n",
       "      <td>311.761444</td>\n",
       "      <td>30.747143</td>\n",
       "      <td>31.080000</td>\n",
       "      <td>302.047852</td>\n",
       "      <td>30.107143</td>\n",
       "      <td>30.520000</td>\n",
       "      <td>311.761444</td>\n",
       "      <td>30.625713</td>\n",
       "      <td>30.879999</td>\n",
       "      <td>7987100.0</td>\n",
       "      <td>138040000.0</td>\n",
       "      <td>58182400.0</td>\n",
       "    </tr>\n",
       "    <tr>\n",
       "      <td>2010-01-07</td>\n",
       "      <td>295.940735</td>\n",
       "      <td>26.113146</td>\n",
       "      <td>23.901886</td>\n",
       "      <td>295.940735</td>\n",
       "      <td>30.082857</td>\n",
       "      <td>30.450001</td>\n",
       "      <td>303.861053</td>\n",
       "      <td>30.285715</td>\n",
       "      <td>30.700001</td>\n",
       "      <td>295.218445</td>\n",
       "      <td>29.864286</td>\n",
       "      <td>30.190001</td>\n",
       "      <td>303.562164</td>\n",
       "      <td>30.250000</td>\n",
       "      <td>30.629999</td>\n",
       "      <td>12876600.0</td>\n",
       "      <td>119282800.0</td>\n",
       "      <td>50559700.0</td>\n",
       "    </tr>\n",
       "    <tr>\n",
       "      <td>2010-01-08</td>\n",
       "      <td>299.885956</td>\n",
       "      <td>26.286753</td>\n",
       "      <td>24.066734</td>\n",
       "      <td>299.885956</td>\n",
       "      <td>30.282858</td>\n",
       "      <td>30.660000</td>\n",
       "      <td>300.498657</td>\n",
       "      <td>30.285715</td>\n",
       "      <td>30.879999</td>\n",
       "      <td>293.455048</td>\n",
       "      <td>29.865715</td>\n",
       "      <td>30.240000</td>\n",
       "      <td>294.894653</td>\n",
       "      <td>30.042856</td>\n",
       "      <td>30.280001</td>\n",
       "      <td>9483900.0</td>\n",
       "      <td>111902700.0</td>\n",
       "      <td>51197400.0</td>\n",
       "    </tr>\n",
       "  </tbody>\n",
       "</table>\n",
       "</div>"
      ],
      "text/plain": [
       "Attributes   Adj Close                             Close             \\\n",
       "Symbols           GOOG       AAPL       MSFT        GOOG       AAPL   \n",
       "Date                                                                  \n",
       "2010-01-04  312.204773  26.538483  24.294369  312.204773  30.572857   \n",
       "2010-01-05  310.829926  26.584366  24.302216  310.829926  30.625713   \n",
       "2010-01-06  302.994293  26.161509  24.153070  302.994293  30.138571   \n",
       "2010-01-07  295.940735  26.113146  23.901886  295.940735  30.082857   \n",
       "2010-01-08  299.885956  26.286753  24.066734  299.885956  30.282858   \n",
       "\n",
       "Attributes                   High                               Low  \\\n",
       "Symbols          MSFT        GOOG       AAPL       MSFT        GOOG   \n",
       "Date                                                                  \n",
       "2010-01-04  30.950001  313.579620  30.642857  31.100000  310.954468   \n",
       "2010-01-05  30.959999  312.747742  30.798571  31.100000  309.609497   \n",
       "2010-01-06  30.770000  311.761444  30.747143  31.080000  302.047852   \n",
       "2010-01-07  30.450001  303.861053  30.285715  30.700001  295.218445   \n",
       "2010-01-08  30.660000  300.498657  30.285715  30.879999  293.455048   \n",
       "\n",
       "Attributes                              Open                        \\\n",
       "Symbols          AAPL       MSFT        GOOG       AAPL       MSFT   \n",
       "Date                                                                 \n",
       "2010-01-04  30.340000  30.590000  312.304413  30.490000  30.620001   \n",
       "2010-01-05  30.464285  30.639999  312.418976  30.657143  30.850000   \n",
       "2010-01-06  30.107143  30.520000  311.761444  30.625713  30.879999   \n",
       "2010-01-07  29.864286  30.190001  303.562164  30.250000  30.629999   \n",
       "2010-01-08  29.865715  30.240000  294.894653  30.042856  30.280001   \n",
       "\n",
       "Attributes      Volume                           \n",
       "Symbols           GOOG         AAPL        MSFT  \n",
       "Date                                             \n",
       "2010-01-04   3927000.0  123432400.0  38409100.0  \n",
       "2010-01-05   6031900.0  150476200.0  49749600.0  \n",
       "2010-01-06   7987100.0  138040000.0  58182400.0  \n",
       "2010-01-07  12876600.0  119282800.0  50559700.0  \n",
       "2010-01-08   9483900.0  111902700.0  51197400.0  "
      ]
     },
     "execution_count": 2,
     "metadata": {},
     "output_type": "execute_result"
    }
   ],
   "source": [
    "# We would like all available data from 01/01/2000 until 12/31/2016.\n",
    "start_date = '2010-01-01'\n",
    "end_date = '2018-12-31'\n",
    "\n",
    "stock_list = ['GOOG', 'AAPL', 'MSFT']\n",
    "\n",
    "panel_data = data.DataReader(stock_list, start=start_date, end=end_date,\n",
    "                       data_source='yahoo')\n",
    "panel_data.head()\n"
   ]
  },
  {
   "cell_type": "markdown",
   "metadata": {},
   "source": [
    "We want to make sure that all weekdays are included in our dataset, which is very often desirable for quantitative trading strategies. But, some of the weekdays might be public holidays in which case no price will be available."
   ]
  },
  {
   "cell_type": "code",
   "execution_count": 3,
   "metadata": {},
   "outputs": [],
   "source": [
    "# Q1 Create a new dataframe from panel_data.  (20 points)\n",
    "\n",
    "#   - This dataframe will only include 'Close' price information for these three stocks.  \n",
    "#   - This dataframe has all weekdays as indexes (from state_date to end_date). (Hint, pd.date_range, reindex method)\n",
    "#   - Fill in missing values using forward fill . "
   ]
  },
  {
   "cell_type": "code",
   "execution_count": 4,
   "metadata": {},
   "outputs": [
    {
     "data": {
      "text/html": [
       "<div>\n",
       "<style scoped>\n",
       "    .dataframe tbody tr th:only-of-type {\n",
       "        vertical-align: middle;\n",
       "    }\n",
       "\n",
       "    .dataframe tbody tr th {\n",
       "        vertical-align: top;\n",
       "    }\n",
       "\n",
       "    .dataframe thead th {\n",
       "        text-align: right;\n",
       "    }\n",
       "</style>\n",
       "<table border=\"1\" class=\"dataframe\">\n",
       "  <thead>\n",
       "    <tr style=\"text-align: right;\">\n",
       "      <th>Symbols</th>\n",
       "      <th>GOOG</th>\n",
       "      <th>AAPL</th>\n",
       "      <th>MSFT</th>\n",
       "    </tr>\n",
       "    <tr>\n",
       "      <th>Date</th>\n",
       "      <th></th>\n",
       "      <th></th>\n",
       "      <th></th>\n",
       "    </tr>\n",
       "  </thead>\n",
       "  <tbody>\n",
       "    <tr>\n",
       "      <td>2010-01-04</td>\n",
       "      <td>312.204773</td>\n",
       "      <td>30.572857</td>\n",
       "      <td>30.950001</td>\n",
       "    </tr>\n",
       "    <tr>\n",
       "      <td>2010-01-05</td>\n",
       "      <td>310.829926</td>\n",
       "      <td>30.625713</td>\n",
       "      <td>30.959999</td>\n",
       "    </tr>\n",
       "    <tr>\n",
       "      <td>2010-01-06</td>\n",
       "      <td>302.994293</td>\n",
       "      <td>30.138571</td>\n",
       "      <td>30.770000</td>\n",
       "    </tr>\n",
       "    <tr>\n",
       "      <td>2010-01-07</td>\n",
       "      <td>295.940735</td>\n",
       "      <td>30.082857</td>\n",
       "      <td>30.450001</td>\n",
       "    </tr>\n",
       "    <tr>\n",
       "      <td>2010-01-08</td>\n",
       "      <td>299.885956</td>\n",
       "      <td>30.282858</td>\n",
       "      <td>30.660000</td>\n",
       "    </tr>\n",
       "    <tr>\n",
       "      <td>...</td>\n",
       "      <td>...</td>\n",
       "      <td>...</td>\n",
       "      <td>...</td>\n",
       "    </tr>\n",
       "    <tr>\n",
       "      <td>2018-12-24</td>\n",
       "      <td>976.219971</td>\n",
       "      <td>146.830002</td>\n",
       "      <td>94.129997</td>\n",
       "    </tr>\n",
       "    <tr>\n",
       "      <td>2018-12-26</td>\n",
       "      <td>1039.459961</td>\n",
       "      <td>157.169998</td>\n",
       "      <td>100.559998</td>\n",
       "    </tr>\n",
       "    <tr>\n",
       "      <td>2018-12-27</td>\n",
       "      <td>1043.880005</td>\n",
       "      <td>156.149994</td>\n",
       "      <td>101.180000</td>\n",
       "    </tr>\n",
       "    <tr>\n",
       "      <td>2018-12-28</td>\n",
       "      <td>1037.079956</td>\n",
       "      <td>156.229996</td>\n",
       "      <td>100.389999</td>\n",
       "    </tr>\n",
       "    <tr>\n",
       "      <td>2018-12-31</td>\n",
       "      <td>1035.609985</td>\n",
       "      <td>157.740005</td>\n",
       "      <td>101.570000</td>\n",
       "    </tr>\n",
       "  </tbody>\n",
       "</table>\n",
       "<p>2264 rows × 3 columns</p>\n",
       "</div>"
      ],
      "text/plain": [
       "Symbols            GOOG        AAPL        MSFT\n",
       "Date                                           \n",
       "2010-01-04   312.204773   30.572857   30.950001\n",
       "2010-01-05   310.829926   30.625713   30.959999\n",
       "2010-01-06   302.994293   30.138571   30.770000\n",
       "2010-01-07   295.940735   30.082857   30.450001\n",
       "2010-01-08   299.885956   30.282858   30.660000\n",
       "...                 ...         ...         ...\n",
       "2018-12-24   976.219971  146.830002   94.129997\n",
       "2018-12-26  1039.459961  157.169998  100.559998\n",
       "2018-12-27  1043.880005  156.149994  101.180000\n",
       "2018-12-28  1037.079956  156.229996  100.389999\n",
       "2018-12-31  1035.609985  157.740005  101.570000\n",
       "\n",
       "[2264 rows x 3 columns]"
      ]
     },
     "execution_count": 4,
     "metadata": {},
     "output_type": "execute_result"
    }
   ],
   "source": [
    "newdf = panel_data.loc[:, 'Close']\n",
    "newdf.head()\n",
    "newdf.reset_index()\n",
    "newdf.fillna(method='ffill')"
   ]
  },
  {
   "cell_type": "code",
   "execution_count": 5,
   "metadata": {},
   "outputs": [],
   "source": [
    "# Q2 Print the overall statistics for this dataframe (describe method) (10 points)"
   ]
  },
  {
   "cell_type": "code",
   "execution_count": 6,
   "metadata": {
    "scrolled": true
   },
   "outputs": [
    {
     "name": "stdout",
     "output_type": "stream",
     "text": [
      "<bound method NDFrame.describe of Symbols            GOOG        AAPL        MSFT\n",
      "Date                                           \n",
      "2010-01-04   312.204773   30.572857   30.950001\n",
      "2010-01-05   310.829926   30.625713   30.959999\n",
      "2010-01-06   302.994293   30.138571   30.770000\n",
      "2010-01-07   295.940735   30.082857   30.450001\n",
      "2010-01-08   299.885956   30.282858   30.660000\n",
      "...                 ...         ...         ...\n",
      "2018-12-24   976.219971  146.830002   94.129997\n",
      "2018-12-26  1039.459961  157.169998  100.559998\n",
      "2018-12-27  1043.880005  156.149994  101.180000\n",
      "2018-12-28  1037.079956  156.229996  100.389999\n",
      "2018-12-31  1035.609985  157.740005  101.570000\n",
      "\n",
      "[2264 rows x 3 columns]>\n",
      "DatetimeIndex(['2010-01-04', '2010-01-05', '2010-01-06', '2010-01-07',\n",
      "               '2010-01-08', '2010-01-11', '2010-01-12', '2010-01-13',\n",
      "               '2010-01-14', '2010-01-15',\n",
      "               ...\n",
      "               '2018-12-17', '2018-12-18', '2018-12-19', '2018-12-20',\n",
      "               '2018-12-21', '2018-12-24', '2018-12-26', '2018-12-27',\n",
      "               '2018-12-28', '2018-12-31'],\n",
      "              dtype='datetime64[ns]', name='Date', length=2264, freq=None)\n"
     ]
    }
   ],
   "source": [
    "print(newdf.describe)\n",
    "print(newdf.index)"
   ]
  },
  {
   "cell_type": "code",
   "execution_count": 7,
   "metadata": {},
   "outputs": [],
   "source": [
    "# Q3 Get the Google time series data. Use groupby() and mean() method to get the average month price and plot them\n",
    "# using matplotlib (20 points)"
   ]
  },
  {
   "cell_type": "code",
   "execution_count": 8,
   "metadata": {},
   "outputs": [
    {
     "data": {
      "text/plain": [
       "<matplotlib.axes._subplots.AxesSubplot at 0x19a713bad48>"
      ]
     },
     "execution_count": 8,
     "metadata": {},
     "output_type": "execute_result"
    },
    {
     "data": {
      "image/png": "[encoded data removed]",
      "text/plain": [
       "<Figure size 432x288 with 1 Axes>"
      ]
     },
     "metadata": {
      "needs_background": "light"
     },
     "output_type": "display_data"
    }
   ],
   "source": [
    "GOOGdf = newdf.loc[:, 'GOOG']\n",
    "GOOGdf.groupby([newdf.index.year, newdf.index.month]).mean().plot()"
   ]
  },
  {
   "cell_type": "code",
   "execution_count": 9,
   "metadata": {},
   "outputs": [],
   "source": [
    "# Q4 Get the Google time series data. Using the rolling method to get the 50 days and 100 days moving average \n",
    "# and plot them as well as the original data (30 points)"
   ]
  },
  {
   "cell_type": "code",
   "execution_count": 10,
   "metadata": {},
   "outputs": [
    {
     "data": {
      "text/plain": [
       "<matplotlib.axes._subplots.AxesSubplot at 0x19a7188d508>"
      ]
     },
     "execution_count": 10,
     "metadata": {},
     "output_type": "execute_result"
    },
    {
     "data": {
      "image/png": "[encoded data removed]",
      "text/plain": [
       "<Figure size 432x288 with 1 Axes>"
      ]
     },
     "metadata": {
      "needs_background": "light"
     },
     "output_type": "display_data"
    }
   ],
   "source": [
    "GOOGdf.rolling(100).mean().plot()\n",
    "GOOGdf.rolling(50).mean().plot()"
   ]
  },
  {
   "cell_type": "code",
   "execution_count": null,
   "metadata": {},
   "outputs": [],
   "source": []
  },
  {
   "cell_type": "markdown",
   "metadata": {},
   "source": [
    "## Simple trading strategy"
   ]
  },
  {
   "cell_type": "markdown",
   "metadata": {},
   "source": [
    "When considering a stock, we usually will look at the returns. Relative returns and Log returns are two commonly used ones. They could be calculated using the the equations:\n",
    "\n",
    "$r_{relative}(t) = \\frac{p(t) - p(t-1)}{p(t-1)}$ \n",
    "\n",
    "$r_{log}(t) = log\\frac{p(t)}{p(t-1)}$"
   ]
  },
  {
   "cell_type": "code",
   "execution_count": 11,
   "metadata": {},
   "outputs": [],
   "source": [
    "# Q4 calculate the relative returns and log returns and print them out (10 points)  "
   ]
  },
  {
   "cell_type": "code",
   "execution_count": 12,
   "metadata": {},
   "outputs": [
    {
     "name": "stdout",
     "output_type": "stream",
     "text": [
      "Date\n",
      "2010-01-04         NaN\n",
      "2010-01-05   -0.004404\n",
      "2010-01-06   -0.025209\n",
      "2010-01-07   -0.023280\n",
      "2010-01-08    0.013331\n",
      "                ...   \n",
      "2018-12-24   -0.003389\n",
      "2018-12-26    0.064780\n",
      "2018-12-27    0.004252\n",
      "2018-12-28   -0.006514\n",
      "2018-12-31   -0.001417\n",
      "Name: GOOG, Length: 2264, dtype: float64\n",
      "Date\n",
      "2010-01-04         NaN\n",
      "2010-01-05   -0.004413\n",
      "2010-01-06   -0.025532\n",
      "2010-01-07   -0.023555\n",
      "2010-01-08    0.013243\n",
      "                ...   \n",
      "2018-12-24   -0.003395\n",
      "2018-12-26    0.062769\n",
      "2018-12-27    0.004243\n",
      "2018-12-28   -0.006536\n",
      "2018-12-31   -0.001418\n",
      "Name: GOOG, Length: 2264, dtype: float64\n"
     ]
    }
   ],
   "source": [
    "returns = GOOGdf.pct_change()\n",
    "print(returns)\n",
    "\n",
    "Log_Returns = np.log(GOOGdf) - np.log(GOOGdf.shift(1))\n",
    "print(Log_Returns)"
   ]
  },
  {
   "cell_type": "code",
   "execution_count": 13,
   "metadata": {},
   "outputs": [],
   "source": [
    "# Q5 Create your own analysis (could be any analysis, 10 points)"
   ]
  },
  {
   "cell_type": "code",
   "execution_count": 14,
   "metadata": {},
   "outputs": [
    {
     "data": {
      "text/plain": [
       "Symbols\n",
       "GOOG    80740.225692\n",
       "AAPL     2189.556109\n",
       "MSFT      574.209644\n",
       "dtype: float64"
      ]
     },
     "execution_count": 14,
     "metadata": {},
     "output_type": "execute_result"
    }
   ],
   "source": [
    "newdf.groupby([newdf.index.year, newdf.index.month]).mean().var() \n",
    "#this output calculates variances between average stock prices of Google, Apple, and Microsoft from Jan 2010 - December 2018. \n",
    "#Google has the highest average monthly variances, thus its average stock prices are more volatile than Apples and Microsoft."
   ]
  }
 ],
 "metadata": {
  "kernelspec": {
   "display_name": "Python 3",
   "language": "python",
   "name": "python3"
  },
  "language_info": {
   "codemirror_mode": {
    "name": "ipython",
    "version": 3
   },
   "file_extension": ".py",
   "mimetype": "text/x-python",
   "name": "python",
   "nbconvert_exporter": "python",
   "pygments_lexer": "ipython3",
   "version": "3.7.4"
  }
 },
 "nbformat": 4,
 "nbformat_minor": 4
}
